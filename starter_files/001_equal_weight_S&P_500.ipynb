{
 "cells": [
  {
   "cell_type": "markdown",
   "metadata": {},
   "source": [
    "# Equal-Weight S&P 500 Index Fund\n",
    "\n",
    "## Introduction & Library Imports\n",
    "\n",
    "The S&P 500 is the world's most popular stock market index. The largest fund that is benchmarked to this index is the SPDR® S&P 500® ETF Trust. It has more than US$250 billion of assets under management.\n",
    "\n",
    "The goal of this section of the course is to create a Python script that will accept the value of your portfolio and tell you how many shares of each S&P 500 constituent you should purchase to get an equal-weight version of the index fund.\n",
    "\n",
    "## Library Imports\n",
    "\n",
    "The first thing we need to do is import the open-source software libraries that we'll be using in this tutorial."
   ]
  },
  {
   "cell_type": "code",
   "execution_count": 1,
   "metadata": {},
   "outputs": [],
   "source": [
    "import numpy as np \n",
    "import pandas as pd \n",
    "import requests\n",
    "import xlsxwriter\n",
    "import math"
   ]
  },
  {
   "cell_type": "markdown",
   "metadata": {},
   "source": [
    "## Importing Our List of Stocks\n",
    "\n",
    "The next thing we need to do is import the constituents of the S&P 500.\n",
    "\n",
    "These constituents change over time, so in an ideal world you would connect directly to the index provider (Standard & Poor's) and pull their real-time constituents on a regular basis.\n",
    "\n",
    "Paying for access to the index provider's API is outside of the scope of this course. \n",
    "\n",
    "There's a static version of the S&P 500 constituents available here. [Click this link to download them now](https://drive.google.com/file/d/1ZJSpbY69DVckVZlO9cC6KkgfSufybcHN/view?usp=sharing). Move this file into the `starter-files` folder so it can be accessed by other files in that directory.\n",
    "\n",
    "Now it's time to import these stocks to our Jupyter Notebook file."
   ]
  },
  {
   "source": [
    "stocks = pd.read_csv('sp_500_stocks.csv')\n",
    "stocks"
   ],
   "cell_type": "code",
   "metadata": {},
   "execution_count": 2,
   "outputs": [
    {
     "output_type": "execute_result",
     "data": {
      "text/plain": [
       "    Ticker\n",
       "0        A\n",
       "1      AAL\n",
       "2      AAP\n",
       "3     AAPL\n",
       "4     ABBV\n",
       "..     ...\n",
       "500    YUM\n",
       "501    ZBH\n",
       "502   ZBRA\n",
       "503   ZION\n",
       "504    ZTS\n",
       "\n",
       "[505 rows x 1 columns]"
      ],
      "text/html": "<div>\n<style scoped>\n    .dataframe tbody tr th:only-of-type {\n        vertical-align: middle;\n    }\n\n    .dataframe tbody tr th {\n        vertical-align: top;\n    }\n\n    .dataframe thead th {\n        text-align: right;\n    }\n</style>\n<table border=\"1\" class=\"dataframe\">\n  <thead>\n    <tr style=\"text-align: right;\">\n      <th></th>\n      <th>Ticker</th>\n    </tr>\n  </thead>\n  <tbody>\n    <tr>\n      <th>0</th>\n      <td>A</td>\n    </tr>\n    <tr>\n      <th>1</th>\n      <td>AAL</td>\n    </tr>\n    <tr>\n      <th>2</th>\n      <td>AAP</td>\n    </tr>\n    <tr>\n      <th>3</th>\n      <td>AAPL</td>\n    </tr>\n    <tr>\n      <th>4</th>\n      <td>ABBV</td>\n    </tr>\n    <tr>\n      <th>...</th>\n      <td>...</td>\n    </tr>\n    <tr>\n      <th>500</th>\n      <td>YUM</td>\n    </tr>\n    <tr>\n      <th>501</th>\n      <td>ZBH</td>\n    </tr>\n    <tr>\n      <th>502</th>\n      <td>ZBRA</td>\n    </tr>\n    <tr>\n      <th>503</th>\n      <td>ZION</td>\n    </tr>\n    <tr>\n      <th>504</th>\n      <td>ZTS</td>\n    </tr>\n  </tbody>\n</table>\n<p>505 rows × 1 columns</p>\n</div>"
     },
     "metadata": {},
     "execution_count": 2
    }
   ]
  },
  {
   "cell_type": "markdown",
   "metadata": {},
   "source": [
    "## Acquiring an API Token\n",
    "\n",
    "Now it's time to import our IEX Cloud API token. This is the data provider that we will be using throughout this course.\n",
    "\n",
    "API tokens (and other sensitive information) should be stored in a `secrets.py` file that doesn't get pushed to your local Git repository. We'll be using a sandbox API token in this course, which means that the data we'll use is randomly-generated and (more importantly) has no cost associated with it.\n",
    "\n",
    "[Click here](http://nickmccullum.com/algorithmic-trading-python/secrets.py) to download your `secrets.py` file. Move the file into the same directory as this Jupyter Notebook before proceeding."
   ]
  },
  {
   "cell_type": "code",
   "execution_count": 3,
   "metadata": {},
   "outputs": [],
   "source": [
    "from secrets import IEX_CLOUD_API_TOKEN"
   ]
  },
  {
   "cell_type": "markdown",
   "metadata": {},
   "source": [
    "## Making Our First API Call\n",
    "\n",
    "Now it's time to structure our API calls to IEX cloud. \n",
    "\n",
    "We need the following information from the API:\n",
    "\n",
    "* Market capitalization for each stock\n",
    "* Price of each stock\n",
    "\n"
   ]
  },
  {
   "cell_type": "code",
   "execution_count": 4,
   "metadata": {},
   "outputs": [
    {
     "output_type": "stream",
     "name": "stdout",
     "text": [
      "{'symbol': 'AAPL', 'companyName': 'Apple Inc', 'primaryExchange': 'NLS(KATSA)S  GTQOMDGNE BAEL/ARLCE', 'calculationPrice': 'tops', 'open': None, 'openTime': None, 'openSource': 'lfifioac', 'close': None, 'closeTime': None, 'closeSource': 'flcifoai', 'high': None, 'highTime': None, 'highSource': None, 'low': None, 'lowTime': None, 'lowSource': None, 'latestPrice': 138.377, 'latestSource': 'IEX real time price', 'latestTime': '11:24:29 AM', 'latestUpdate': 1658529595415, 'latestVolume': None, 'iexRealtimePrice': 139.61, 'iexRealtimeSize': 205, 'iexLastUpdated': 1646491817128, 'delayedPrice': None, 'delayedPriceTime': None, 'oddLotDelayedPrice': None, 'oddLotDelayedPriceTime': None, 'extendedPrice': None, 'extendedChange': None, 'extendedChangePercent': None, 'extendedPriceTime': None, 'previousClose': 140.79, 'previousVolume': 128343983, 'change': 0.435, 'changePercent': 0.00326, 'volume': None, 'iexMarketPercent': 0.012952739164321766, 'iexVolume': 713551, 'avgTotalVolume': 109718593, 'iexBidPrice': 143.52, 'iexBidSize': 102, 'iexAskPrice': 142.52, 'iexAskSize': 104, 'iexOpen': 138.671, 'iexOpenTime': 1661665875267, 'iexClose': 142.668, 'iexCloseTime': 1659363578303, 'marketCap': 2337878184110, 'peRatio': 43.3, 'week52High': 141.37, 'week52Low': 58.37, 'ytdChange': 0.8937386295588213, 'lastTradeTime': 1668409959665, 'isUSMarketOpen': True}\n"
     ]
    }
   ],
   "source": [
    "symbol = 'AAPL'\n",
    "api_url = f'https://sandbox.iexapis.com/stable/stock/{symbol}/quote/?token={IEX_CLOUD_API_TOKEN}'\n",
    "data  = requests.get(api_url).json()\n",
    "print(data)\n"
   ]
  },
  {
   "cell_type": "markdown",
   "metadata": {},
   "source": [
    "## Parsing Our API Call\n",
    "\n",
    "The API call that we executed in the last code block contains all of the information required to build our equal-weight S&P 500 strategy. \n",
    "\n",
    "With that said, the data isn't in a proper format yet. We need to parse it first."
   ]
  },
  {
   "cell_type": "code",
   "execution_count": 5,
   "metadata": {},
   "outputs": [],
   "source": [
    "price = data['latestPrice']\n",
    "market_cap = data['marketCap']"
   ]
  },
  {
   "cell_type": "markdown",
   "metadata": {},
   "source": [
    "## Adding Our Stocks Data to a Pandas DataFrame\n",
    "\n",
    "The next thing we need to do is add our stock's price and market capitalization to a pandas DataFrame. Think of a DataFrame like the Python version of a spreadsheet. It stores tabular data."
   ]
  },
  {
   "cell_type": "code",
   "execution_count": 6,
   "metadata": {},
   "outputs": [
    {
     "output_type": "execute_result",
     "data": {
      "text/plain": [
       "Empty DataFrame\n",
       "Columns: [Ticker, Stock Price, Market Capitalization, Number of Shares to buy]\n",
       "Index: []"
      ],
      "text/html": "<div>\n<style scoped>\n    .dataframe tbody tr th:only-of-type {\n        vertical-align: middle;\n    }\n\n    .dataframe tbody tr th {\n        vertical-align: top;\n    }\n\n    .dataframe thead th {\n        text-align: right;\n    }\n</style>\n<table border=\"1\" class=\"dataframe\">\n  <thead>\n    <tr style=\"text-align: right;\">\n      <th></th>\n      <th>Ticker</th>\n      <th>Stock Price</th>\n      <th>Market Capitalization</th>\n      <th>Number of Shares to buy</th>\n    </tr>\n  </thead>\n  <tbody>\n  </tbody>\n</table>\n</div>"
     },
     "metadata": {},
     "execution_count": 6
    }
   ],
   "source": [
    "my_Columns = ['Ticker', 'Stock Price', 'Market Capitalization', 'Number of Shares to buy']\n",
    "final_dataframe = pd.DataFrame(columns = my_Columns)\n",
    "final_dataframe"
   ]
  },
  {
   "cell_type": "code",
   "execution_count": 7,
   "metadata": {},
   "outputs": [
    {
     "output_type": "execute_result",
     "data": {
      "text/plain": [
       "  Ticker  Stock Price Market Capitalization Number of Shares to buy\n",
       "0   AAPL      138.377         2337878184110                     N/A"
      ],
      "text/html": "<div>\n<style scoped>\n    .dataframe tbody tr th:only-of-type {\n        vertical-align: middle;\n    }\n\n    .dataframe tbody tr th {\n        vertical-align: top;\n    }\n\n    .dataframe thead th {\n        text-align: right;\n    }\n</style>\n<table border=\"1\" class=\"dataframe\">\n  <thead>\n    <tr style=\"text-align: right;\">\n      <th></th>\n      <th>Ticker</th>\n      <th>Stock Price</th>\n      <th>Market Capitalization</th>\n      <th>Number of Shares to buy</th>\n    </tr>\n  </thead>\n  <tbody>\n    <tr>\n      <th>0</th>\n      <td>AAPL</td>\n      <td>138.377</td>\n      <td>2337878184110</td>\n      <td>N/A</td>\n    </tr>\n  </tbody>\n</table>\n</div>"
     },
     "metadata": {},
     "execution_count": 7
    }
   ],
   "source": [
    "final_dataframe.append(\n",
    "pd.Series(\n",
    "    [\n",
    "        symbol,\n",
    "        price,\n",
    "        market_cap,\n",
    "        'N/A',\n",
    "    ],\n",
    "index = my_Columns\n",
    "),\n",
    "ignore_index=True\n",
    ")"
   ]
  },
  {
   "cell_type": "markdown",
   "metadata": {},
   "source": [
    "## Looping Through The Tickers in Our List of Stocks\n",
    "\n",
    "Using the same logic that we outlined above, we can pull data for all S&P 500 stocks and store their data in the DataFrame using a `for` loop."
   ]
  },
  {
   "cell_type": "code",
   "execution_count": 8,
   "metadata": {},
   "outputs": [
    {
     "output_type": "execute_result",
     "data": {
      "text/plain": [
       "    Ticker  Stock Price Market Capitalization Number of Shares to buy\n",
       "0        A      122.100           36433870873                     N/A\n",
       "1      AAL       16.270            9920952488                     N/A\n",
       "2      AAP      159.710           10700491931                     N/A\n",
       "3     AAPL      138.509         2434526958910                     N/A\n",
       "4     ABBV      109.580          191283091107                     N/A\n",
       "..     ...          ...                   ...                     ...\n",
       "500    YUM      113.420           34385533453                     N/A\n",
       "501    ZBH      158.700           32004963068                     N/A\n",
       "502   ZBRA      381.930           20886731784                     N/A\n",
       "503   ZION       44.941            7156326743                     N/A\n",
       "504    ZTS      170.890           81344079952                     N/A\n",
       "\n",
       "[505 rows x 4 columns]"
      ],
      "text/html": "<div>\n<style scoped>\n    .dataframe tbody tr th:only-of-type {\n        vertical-align: middle;\n    }\n\n    .dataframe tbody tr th {\n        vertical-align: top;\n    }\n\n    .dataframe thead th {\n        text-align: right;\n    }\n</style>\n<table border=\"1\" class=\"dataframe\">\n  <thead>\n    <tr style=\"text-align: right;\">\n      <th></th>\n      <th>Ticker</th>\n      <th>Stock Price</th>\n      <th>Market Capitalization</th>\n      <th>Number of Shares to buy</th>\n    </tr>\n  </thead>\n  <tbody>\n    <tr>\n      <th>0</th>\n      <td>A</td>\n      <td>122.100</td>\n      <td>36433870873</td>\n      <td>N/A</td>\n    </tr>\n    <tr>\n      <th>1</th>\n      <td>AAL</td>\n      <td>16.270</td>\n      <td>9920952488</td>\n      <td>N/A</td>\n    </tr>\n    <tr>\n      <th>2</th>\n      <td>AAP</td>\n      <td>159.710</td>\n      <td>10700491931</td>\n      <td>N/A</td>\n    </tr>\n    <tr>\n      <th>3</th>\n      <td>AAPL</td>\n      <td>138.509</td>\n      <td>2434526958910</td>\n      <td>N/A</td>\n    </tr>\n    <tr>\n      <th>4</th>\n      <td>ABBV</td>\n      <td>109.580</td>\n      <td>191283091107</td>\n      <td>N/A</td>\n    </tr>\n    <tr>\n      <th>...</th>\n      <td>...</td>\n      <td>...</td>\n      <td>...</td>\n      <td>...</td>\n    </tr>\n    <tr>\n      <th>500</th>\n      <td>YUM</td>\n      <td>113.420</td>\n      <td>34385533453</td>\n      <td>N/A</td>\n    </tr>\n    <tr>\n      <th>501</th>\n      <td>ZBH</td>\n      <td>158.700</td>\n      <td>32004963068</td>\n      <td>N/A</td>\n    </tr>\n    <tr>\n      <th>502</th>\n      <td>ZBRA</td>\n      <td>381.930</td>\n      <td>20886731784</td>\n      <td>N/A</td>\n    </tr>\n    <tr>\n      <th>503</th>\n      <td>ZION</td>\n      <td>44.941</td>\n      <td>7156326743</td>\n      <td>N/A</td>\n    </tr>\n    <tr>\n      <th>504</th>\n      <td>ZTS</td>\n      <td>170.890</td>\n      <td>81344079952</td>\n      <td>N/A</td>\n    </tr>\n  </tbody>\n</table>\n<p>505 rows × 4 columns</p>\n</div>"
     },
     "metadata": {},
     "execution_count": 8
    }
   ],
   "source": [
    "final_dataframe = pd.DataFrame (columns = my_Columns)\n",
    "for stock in stocks['Ticker']:\n",
    "    api_url = f'https://sandbox.iexapis.com/stable/stock/{stock}/quote/?token={IEX_CLOUD_API_TOKEN}'\n",
    "    data  = requests.get(api_url).json()\n",
    "    final_dataframe = final_dataframe.append(\n",
    "        pd.Series(\n",
    "            [\n",
    "                stock,\n",
    "                data['latestPrice'],\n",
    "                data['marketCap'],\n",
    "                'N/A'\n",
    "            ],\n",
    "            index = my_Columns\n",
    "            ),\n",
    "            ignore_index = True\n",
    "        )\n",
    "final_dataframe"
   ]
  },
  {
   "cell_type": "code",
   "execution_count": null,
   "metadata": {},
   "outputs": [],
   "source": []
  },
  {
   "cell_type": "markdown",
   "metadata": {},
   "source": [
    "## Using Batch API Calls to Improve Performance\n",
    "\n",
    "Batch API calls are one of the easiest ways to improve the performance of your code.\n",
    "\n",
    "This is because HTTP requests are typically one of the slowest components of a script.\n",
    "\n",
    "Also, API providers will often give you discounted rates for using batch API calls since they are easier for the API provider to respond to.\n",
    "\n",
    "IEX Cloud limits their batch API calls to 100 tickers per request. Still, this reduces the number of API calls we'll make in this section from 500 to 5 - huge improvement! In this section, we'll split our list of stocks into groups of 100 and then make a batch API call for each group."
   ]
  },
  {
   "cell_type": "code",
   "execution_count": 9,
   "metadata": {},
   "outputs": [],
   "source": [
    "def chunks(lst, n):\n",
    "    \"\"\"Yield successive n-sized chunks from lst.\"\"\"\n",
    "    for i in range(1, len(lst), n):\n",
    "        yield lst[i:i+n]"
   ]
  },
  {
   "cell_type": "code",
   "execution_count": 10,
   "metadata": {},
   "outputs": [
    {
     "output_type": "execute_result",
     "data": {
      "text/plain": [
       "    Ticker  Stock Price Market Capitalization Number of Shares to buy\n",
       "0      AAL       16.788            9990758468                     N/A\n",
       "1      AAP      164.860           11162316390                     N/A\n",
       "2     AAPL      139.330         2418784491248                     N/A\n",
       "3     ABBV      110.109          192535095284                     N/A\n",
       "4      ABC      101.350           20379330258                     N/A\n",
       "..     ...          ...                   ...                     ...\n",
       "499    YUM      113.580           33888480778                     N/A\n",
       "500    ZBH      157.650           32465243746                     N/A\n",
       "501   ZBRA      382.050           20266276755                     N/A\n",
       "502   ZION       43.171            7099652385                     N/A\n",
       "503    ZTS      167.440           78763361823                     N/A\n",
       "\n",
       "[504 rows x 4 columns]"
      ],
      "text/html": "<div>\n<style scoped>\n    .dataframe tbody tr th:only-of-type {\n        vertical-align: middle;\n    }\n\n    .dataframe tbody tr th {\n        vertical-align: top;\n    }\n\n    .dataframe thead th {\n        text-align: right;\n    }\n</style>\n<table border=\"1\" class=\"dataframe\">\n  <thead>\n    <tr style=\"text-align: right;\">\n      <th></th>\n      <th>Ticker</th>\n      <th>Stock Price</th>\n      <th>Market Capitalization</th>\n      <th>Number of Shares to buy</th>\n    </tr>\n  </thead>\n  <tbody>\n    <tr>\n      <th>0</th>\n      <td>AAL</td>\n      <td>16.788</td>\n      <td>9990758468</td>\n      <td>N/A</td>\n    </tr>\n    <tr>\n      <th>1</th>\n      <td>AAP</td>\n      <td>164.860</td>\n      <td>11162316390</td>\n      <td>N/A</td>\n    </tr>\n    <tr>\n      <th>2</th>\n      <td>AAPL</td>\n      <td>139.330</td>\n      <td>2418784491248</td>\n      <td>N/A</td>\n    </tr>\n    <tr>\n      <th>3</th>\n      <td>ABBV</td>\n      <td>110.109</td>\n      <td>192535095284</td>\n      <td>N/A</td>\n    </tr>\n    <tr>\n      <th>4</th>\n      <td>ABC</td>\n      <td>101.350</td>\n      <td>20379330258</td>\n      <td>N/A</td>\n    </tr>\n    <tr>\n      <th>...</th>\n      <td>...</td>\n      <td>...</td>\n      <td>...</td>\n      <td>...</td>\n    </tr>\n    <tr>\n      <th>499</th>\n      <td>YUM</td>\n      <td>113.580</td>\n      <td>33888480778</td>\n      <td>N/A</td>\n    </tr>\n    <tr>\n      <th>500</th>\n      <td>ZBH</td>\n      <td>157.650</td>\n      <td>32465243746</td>\n      <td>N/A</td>\n    </tr>\n    <tr>\n      <th>501</th>\n      <td>ZBRA</td>\n      <td>382.050</td>\n      <td>20266276755</td>\n      <td>N/A</td>\n    </tr>\n    <tr>\n      <th>502</th>\n      <td>ZION</td>\n      <td>43.171</td>\n      <td>7099652385</td>\n      <td>N/A</td>\n    </tr>\n    <tr>\n      <th>503</th>\n      <td>ZTS</td>\n      <td>167.440</td>\n      <td>78763361823</td>\n      <td>N/A</td>\n    </tr>\n  </tbody>\n</table>\n<p>504 rows × 4 columns</p>\n</div>"
     },
     "metadata": {},
     "execution_count": 10
    }
   ],
   "source": [
    "symbol_groups = list(chunks(stocks['Ticker'], 100))\n",
    "symbol_strings = []\n",
    "for i in range(0, len(symbol_groups)):\n",
    "    symbol_strings.append(','.join(symbol_groups[i]))\n",
    "#   print(symbol_strings[i])\n",
    "final_dataframe = pd.DataFrame (columns = my_Columns)\n",
    "\n",
    "for symbol_strings in symbol_strings:\n",
    "    batch_api_call_url = f'https://sandbox.iexapis.com/stable/stock/market/batch?symbols={symbol_strings}&types=quote&token={IEX_CLOUD_API_TOKEN}'\n",
    "    data = requests.get(batch_api_call_url).json()\n",
    "    for symbol in symbol_strings.split(','):\n",
    "        final_dataframe = final_dataframe.append(\n",
    "            pd.Series(\n",
    "            [\n",
    "                symbol,\n",
    "                data[symbol]['quote']['latestPrice'],\n",
    "                data[symbol]['quote']['marketCap'],\n",
    "                'N/A'\n",
    "            ],\n",
    "            index = my_Columns\n",
    "            ),\n",
    "            ignore_index = True\n",
    "            )\n",
    "        \n",
    "final_dataframe\n",
    "        \n",
    "  \n"
   ]
  },
  {
   "cell_type": "markdown",
   "metadata": {},
   "source": [
    "## Calculating the Number of Shares to Buy\n",
    "\n",
    "As you can see in the DataFrame above, we stil haven't calculated the number of shares of each stock to buy.\n",
    "\n",
    "We'll do that next."
   ]
  },
  {
   "cell_type": "code",
   "execution_count": 14,
   "metadata": {},
   "outputs": [
    {
     "output_type": "stream",
     "name": "stdout",
     "text": [
      "1000000.0\n"
     ]
    }
   ],
   "source": [
    "portfolio_size = input('Enter the value of your portfolio:')\n",
    "\n",
    "try:\n",
    "    val = float(portfolio_size)\n",
    "    print(val)\n",
    "except ValueError:\n",
    "    print(\"That's not a number! \\nPlease try again:\")\n",
    "    portfolio_size = input('Enter the value of your portfolio:')\n",
    "    val = float(portfolio_size)"
   ]
  },
  {
   "cell_type": "code",
   "execution_count": 15,
   "metadata": {
    "tags": []
   },
   "outputs": [
    {
     "output_type": "execute_result",
     "data": {
      "text/plain": [
       "    Ticker  Stock Price Market Capitalization Number of Shares to buy\n",
       "0      AAL       16.788            9990758468                     118\n",
       "1      AAP      164.860           11162316390                      12\n",
       "2     AAPL      139.330         2418784491248                      14\n",
       "3     ABBV      110.109          192535095284                      18\n",
       "4      ABC      101.350           20379330258                      19\n",
       "..     ...          ...                   ...                     ...\n",
       "499    YUM      113.580           33888480778                      17\n",
       "500    ZBH      157.650           32465243746                      12\n",
       "501   ZBRA      382.050           20266276755                       5\n",
       "502   ZION       43.171            7099652385                      45\n",
       "503    ZTS      167.440           78763361823                      11\n",
       "\n",
       "[504 rows x 4 columns]"
      ],
      "text/html": "<div>\n<style scoped>\n    .dataframe tbody tr th:only-of-type {\n        vertical-align: middle;\n    }\n\n    .dataframe tbody tr th {\n        vertical-align: top;\n    }\n\n    .dataframe thead th {\n        text-align: right;\n    }\n</style>\n<table border=\"1\" class=\"dataframe\">\n  <thead>\n    <tr style=\"text-align: right;\">\n      <th></th>\n      <th>Ticker</th>\n      <th>Stock Price</th>\n      <th>Market Capitalization</th>\n      <th>Number of Shares to buy</th>\n    </tr>\n  </thead>\n  <tbody>\n    <tr>\n      <th>0</th>\n      <td>AAL</td>\n      <td>16.788</td>\n      <td>9990758468</td>\n      <td>118</td>\n    </tr>\n    <tr>\n      <th>1</th>\n      <td>AAP</td>\n      <td>164.860</td>\n      <td>11162316390</td>\n      <td>12</td>\n    </tr>\n    <tr>\n      <th>2</th>\n      <td>AAPL</td>\n      <td>139.330</td>\n      <td>2418784491248</td>\n      <td>14</td>\n    </tr>\n    <tr>\n      <th>3</th>\n      <td>ABBV</td>\n      <td>110.109</td>\n      <td>192535095284</td>\n      <td>18</td>\n    </tr>\n    <tr>\n      <th>4</th>\n      <td>ABC</td>\n      <td>101.350</td>\n      <td>20379330258</td>\n      <td>19</td>\n    </tr>\n    <tr>\n      <th>...</th>\n      <td>...</td>\n      <td>...</td>\n      <td>...</td>\n      <td>...</td>\n    </tr>\n    <tr>\n      <th>499</th>\n      <td>YUM</td>\n      <td>113.580</td>\n      <td>33888480778</td>\n      <td>17</td>\n    </tr>\n    <tr>\n      <th>500</th>\n      <td>ZBH</td>\n      <td>157.650</td>\n      <td>32465243746</td>\n      <td>12</td>\n    </tr>\n    <tr>\n      <th>501</th>\n      <td>ZBRA</td>\n      <td>382.050</td>\n      <td>20266276755</td>\n      <td>5</td>\n    </tr>\n    <tr>\n      <th>502</th>\n      <td>ZION</td>\n      <td>43.171</td>\n      <td>7099652385</td>\n      <td>45</td>\n    </tr>\n    <tr>\n      <th>503</th>\n      <td>ZTS</td>\n      <td>167.440</td>\n      <td>78763361823</td>\n      <td>11</td>\n    </tr>\n  </tbody>\n</table>\n<p>504 rows × 4 columns</p>\n</div>"
     },
     "metadata": {},
     "execution_count": 15
    }
   ],
   "source": [
    "position_size = val/len(final_dataframe.index)\n",
    "for i in range(0, len(final_dataframe.index)):\n",
    "    final_dataframe.loc[i, 'Number of Shares to buy'] = math.floor(position_size/final_dataframe.loc[i, 'Stock Price'])\n",
    "final_dataframe\n",
    "    "
   ]
  },
  {
   "cell_type": "markdown",
   "metadata": {},
   "source": [
    "## Formatting Our Excel Output\n",
    "\n",
    "We will be using the XlsxWriter library for Python to create nicely-formatted Excel files.\n",
    "\n",
    "XlsxWriter is an excellent package and offers tons of customization. However, the tradeoff for this is that the library can seem very complicated to new users. Accordingly, this section will be fairly long because I want to do a good job of explaining how XlsxWriter works.\n",
    "\n",
    "### Initializing our XlsxWriter Object"
   ]
  },
  {
   "cell_type": "code",
   "execution_count": 16,
   "metadata": {},
   "outputs": [],
   "source": [
    "writer = pd.ExcelWriter('recommedned trades.xlsx', engine= 'xlsxwriter')\n",
    "final_dataframe.to_excel(writer, 'recommended trades', index=False)"
   ]
  },
  {
   "cell_type": "markdown",
   "metadata": {},
   "source": [
    "### Creating the Formats We'll Need For Our `.xlsx` File\n",
    "\n",
    "Formats include colors, fonts, and also symbols like `%` and `$`. We'll need four main formats for our Excel document:\n",
    "* String format for tickers\n",
    "* \\\\$XX.XX format for stock prices\n",
    "* \\\\$XX,XXX format for market capitalization\n",
    "* Integer format for the number of shares to purchase"
   ]
  },
  {
   "cell_type": "code",
   "execution_count": 17,
   "metadata": {},
   "outputs": [],
   "source": [
    " background_color = '#0a0a23'\n",
    " font_color = '#ffffff'\n",
    "\n",
    "string_format = writer.book.add_format(\n",
    "    {\n",
    "        'font_color': font_color, \n",
    "        'bg_color': background_color,\n",
    "        'border': 1\n",
    "    }\n",
    ")\n",
    "\n",
    "dollar_format = writer.book.add_format(\n",
    "    {\n",
    "        \n",
    "        'font_color': font_color,\n",
    "        'bg_color': background_color,\n",
    "        'border': 1,\n",
    "        'num_format': '$0.00'\n",
    "    }\n",
    ")\n",
    "\n",
    "integer_format = writer.book.add_format(\n",
    "    {\n",
    "        'font_color': font_color,\n",
    "        'bg_color': background_color,\n",
    "        'border': 1,\n",
    "        'num_format': '0'\n",
    "    }\n",
    ")"
   ]
  },
  {
   "cell_type": "markdown",
   "metadata": {},
   "source": [
    "### Applying the Formats to the Columns of Our `.xlsx` File\n",
    "\n",
    "We can use the `set_column` method applied to the `writer.sheets['Recommended Trades']` object to apply formats to specific columns of our spreadsheets.\n",
    "\n",
    "Here's an example:\n",
    "\n",
    "```python\n",
    "writer.sheets['Recommended Trades'].set_column('B:B', #This tells the method to apply the format to column B\n",
    "                     18, #This tells the method to apply a column width of 18 pixels\n",
    "                     string_template #This applies the format 'string_template' to the column\n",
    "                    )\n",
    "```"
   ]
  },
  {
   "cell_type": "code",
   "execution_count": 19,
   "metadata": {},
   "outputs": [],
   "source": [
    "#writer.sheets['recommended trades'].set_column('A:A', 18, string_format)\n",
    "#writer.sheets['recommended trades'].set_column('B:B', 18, string_format)\n",
    "#writer.sheets['recommended trades'].set_column('C:C', 18, string_format)\n",
    "#writer.sheets['recommended trades'].set_column('D:D', 18, string_format)\n",
    "#writer.save()\n",
    "\n",
    "#writer.sheets['recommended trades'].write('A1', 'Ticker', string_format)\n",
    "#writer.sheets['recommended trades'].write('B1', 'Stock Price', dollar_format)\n",
    "#writer.sheets['recommended trades'].write('C1', 'Market Capitalization', dollar_format)\n",
    "#writer.sheets['recommended trades'].write('D1', 'Number of Shares to Buy', integer_format)\n",
    "\n",
    "#violates principle of not repeating yourself\n",
    "#loop this"
   ]
  },
  {
   "cell_type": "markdown",
   "metadata": {},
   "source": [
    "This code works, but it violates the software principle of \"Don't Repeat Yourself\". \n",
    "\n",
    "Let's simplify this by putting it in 2 loops:"
   ]
  },
  {
   "cell_type": "code",
   "execution_count": 15,
   "metadata": {},
   "outputs": [],
   "source": [
    "column_formats = {\n",
    "    'A':['Ticker', string_format],\n",
    "    'B':['Stock Price', dollar_format],\n",
    "    'C':['Market Capitalization', dollar_format],\n",
    "    'D':['Number of Shares to Buy', integer_format]\n",
    "}\n",
    "\n",
    "for column in column_formats.keys():\n",
    "    writer.sheets['recommended trades'].set_column(f'{column}:{column}', 18, column_formats[column][1])\n",
    "    writer.sheets['recommended trades'].write(f'{column}1', column_formats[column][0], column_formats[column][1])\n",
    "\n",
    "writer.save()"
   ]
  },
  {
   "cell_type": "markdown",
   "metadata": {},
   "source": [
    "## Saving Our Excel Output\n",
    "\n",
    "Saving our Excel file is very easy:"
   ]
  },
  {
   "cell_type": "code",
   "execution_count": 21,
   "metadata": {},
   "outputs": [],
   "source": [
    "writer.save()"
   ]
  }
 ],
 "metadata": {
  "kernelspec": {
   "name": "python3",
   "display_name": "Python 3.9.1 64-bit",
   "metadata": {
    "interpreter": {
     "hash": "64a374f334fcc051fc84eac3177381b8d9d91d2514c4bf603c2afa7e2fb1e44c"
    }
   }
  },
  "language_info": {
   "codemirror_mode": {
    "name": "ipython",
    "version": 3
   },
   "file_extension": ".py",
   "mimetype": "text/x-python",
   "name": "python",
   "nbconvert_exporter": "python",
   "pygments_lexer": "ipython3",
   "version": "3.9.1-final"
  }
 },
 "nbformat": 4,
 "nbformat_minor": 4
}